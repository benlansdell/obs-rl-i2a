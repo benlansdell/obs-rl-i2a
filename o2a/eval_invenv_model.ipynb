{
 "cells": [
  {
   "cell_type": "markdown",
   "metadata": {},
   "source": [
    "## Visualize the inverse model\n",
    "\n",
    "Evaluate and visualize the performance of the environment model by seeing it visualize future states while a A2C agent plays the game."
   ]
  },
  {
   "cell_type": "code",
   "execution_count": 1,
   "metadata": {},
   "outputs": [],
   "source": [
    "#Don't use the GPU for these runs:\n",
    "import os \n",
    "os.environ[\"CUDA_VISIBLE_DEVICES\"]=\"\"\n",
    "\n",
    "import numpy as np\n",
    "import tensorflow as tf\n",
    "from inv_model_minigrid import make_env, create_env_model, create_latentinverse_env_model\n",
    "from common.multiprocessing_env import SubprocVecEnv\n",
    "from common.minigrid_util import num_pixels, mode_rewards, pix_to_target, rewards_to_target\n",
    "from a2c import get_actor_critic, CnnPolicy\n",
    "from i2a import convert_target_to_real\n",
    "import gym\n",
    "import gym_minigrid\n",
    "import common.minigrid_util"
   ]
  },
  {
   "cell_type": "code",
   "execution_count": 35,
   "metadata": {},
   "outputs": [],
   "source": [
    "act_to_str = {0:'D', 1:'R', 2:'U', 3:'L', 4:'N'}"
   ]
  },
  {
   "cell_type": "code",
   "execution_count": 2,
   "metadata": {},
   "outputs": [],
   "source": [
    "from IPython.display import clear_output\n",
    "import matplotlib.pyplot as plt\n",
    "import time\n",
    "%matplotlib inline\n",
    "%load_ext autoreload\n",
    "%autoreload 2"
   ]
  },
  {
   "cell_type": "markdown",
   "metadata": {},
   "source": [
    "Next create the environments we will use."
   ]
  },
  {
   "cell_type": "code",
   "execution_count": 25,
   "metadata": {},
   "outputs": [],
   "source": [
    "env_name = \"MiniGrid-BlockMaze-v0\"\n",
    "#env_name = \"MiniGrid-Blocks-6x6-v0\"\n",
    "#env_name = \"MiniGrid-Blocks-8x8-v0\"\n",
    "#env_name = \"MiniGrid-Blocks-16x16-v0\"\n",
    "nenvs = 1\n",
    "nsteps = 5\n"
   ]
  },
  {
   "cell_type": "markdown",
   "metadata": {},
   "source": [
    "Finally, go ahead and test the environment model in minigrid. This will use the A2C agent to play the game and the environment model to predict future states and rewards. This will visualize the imagined and real rewards and game states from the environment model. "
   ]
  },
  {
   "cell_type": "code",
   "execution_count": 26,
   "metadata": {},
   "outputs": [
    {
     "name": "stdout",
     "output_type": "stream",
     "text": [
      "(16, 16, 3)\n",
      "observation space (16, 16, 3)\n",
      "number of actions 5\n"
     ]
    }
   ],
   "source": [
    "#Make minigrid env...\n",
    "env = gym_minigrid.wrappers.ImgObsWrapper(gym.make(env_name))\n",
    "done = False\n",
    "states = env.reset()\n",
    "print(states.shape)\n",
    "num_actions = ac_space.n\n",
    "nw, nh, nc = ob_space\n",
    "print('observation space', ob_space)\n",
    "print('number of actions', num_actions)"
   ]
  },
  {
   "cell_type": "code",
   "execution_count": 27,
   "metadata": {
    "scrolled": false
   },
   "outputs": [
    {
     "name": "stdout",
     "output_type": "stream",
     "text": [
      "INFO:tensorflow:Restoring parameters from weights/a2c_1000000.ckpt\n",
      "INFO:tensorflow:Restoring parameters from weights/env_model_inverse.ckpt\n",
      "[2]\n",
      "Step: 0, Reward: -0.007812\n",
      "[3]\n",
      "Step: 1, Reward: -0.007812\n",
      "[0]\n",
      "Step: 2, Reward: -0.007812\n",
      "[3]\n",
      "Step: 3, Reward: -0.007812\n",
      "[0]\n",
      "Step: 4, Reward: -0.007812\n",
      "[1]\n",
      "Step: 5, Reward: -0.007812\n",
      "[2]\n",
      "Step: 6, Reward: -0.007812\n",
      "[1]\n",
      "Step: 7, Reward: -0.007812\n",
      "[0]\n",
      "Reached door!\n",
      "Step: 8, Reward: 1.000000\n",
      "[0]\n",
      "Step: 9, Reward: -0.007812\n",
      "[0]\n",
      "Step: 10, Reward: -0.007812\n",
      "[0]\n",
      "Step: 11, Reward: -0.007812\n",
      "[3]\n",
      "Step: 12, Reward: -0.007812\n",
      "[0]\n",
      "Step: 13, Reward: -0.007812\n",
      "[0]\n",
      "Step: 14, Reward: -0.007812\n",
      "[1]\n",
      "Step: 15, Reward: -0.007812\n",
      "[2]\n",
      "Step: 16, Reward: -0.007812\n",
      "[2]\n",
      "Step: 17, Reward: -0.007812\n",
      "[2]\n",
      "Reached door!\n",
      "Step: 18, Reward: 1.000000\n",
      "[2]\n",
      "Step: 19, Reward: -0.007812\n",
      "[2]\n",
      "Step: 20, Reward: -0.007812\n",
      "[3]\n",
      "Step: 21, Reward: -0.007812\n",
      "[2]\n",
      "Step: 22, Reward: -0.007812\n",
      "[2]\n",
      "Step: 23, Reward: -0.007812\n",
      "[1]\n",
      "Step: 24, Reward: -0.007812\n",
      "[0]\n",
      "Step: 25, Reward: -0.007812\n",
      "[0]\n",
      "Reached door!\n",
      "Step: 26, Reward: 1.000000\n",
      "[0]\n",
      "Step: 27, Reward: -0.007812\n",
      "[0]\n",
      "Step: 28, Reward: -0.007812\n",
      "[0]\n",
      "Step: 29, Reward: -0.007812\n",
      "[3]\n",
      "Step: 30, Reward: -0.007812\n",
      "[0]\n",
      "Step: 31, Reward: -0.007812\n",
      "[0]\n",
      "Step: 32, Reward: -0.007812\n",
      "[1]\n",
      "Step: 33, Reward: -0.007812\n",
      "[2]\n",
      "Step: 34, Reward: -0.007812\n",
      "[2]\n",
      "Step: 35, Reward: -0.007812\n",
      "[2]\n",
      "Reached door!\n",
      "Step: 36, Reward: 1.000000\n",
      "[2]\n",
      "Step: 37, Reward: -0.007812\n",
      "[2]\n",
      "Step: 38, Reward: -0.007812\n",
      "[3]\n",
      "Step: 39, Reward: -0.007812\n"
     ]
    }
   ],
   "source": [
    "tf.reset_default_graph()\n",
    "n_steps = 40\n",
    "pred_actions = np.zeros((n_steps, num_actions))\n",
    "act_states = np.zeros((n_steps, nw, nh, nc))\n",
    "act_next_states = np.zeros((n_steps, nw, nh, nc))\n",
    "act_rewards = np.zeros(n_steps)\n",
    "act_actions = np.zeros(n_steps)\n",
    "steps = 0\n",
    "with tf.Session() as sess:\n",
    "    # Load the actor\n",
    "    with tf.variable_scope('actor'):\n",
    "        actor_critic = get_actor_critic(sess, nenvs, nsteps, ob_space,\n",
    "                ac_space, CnnPolicy, should_summary=False)\n",
    "    #actor_critic.load('weights/a2c_100000.ckpt')\n",
    "    actor_critic.load('weights/a2c_1000000.ckpt')\n",
    "\n",
    "    # Load the critic\n",
    "    with tf.variable_scope('env_model'):\n",
    "        env_model = create_latentinverse_env_model(ob_space, num_actions, num_pixels,\n",
    "                len(mode_rewards['regular']), should_summary=False)\n",
    "        #env_model = create_env_model(ob_space, num_actions, num_pixels,\n",
    "        #        len(mode_rewards['regular']), should_summary=False)\n",
    "\n",
    "    save_vars = tf.get_collection(tf.GraphKeys.GLOBAL_VARIABLES, scope='env_model')\n",
    "    loader = tf.train.Saver(var_list=save_vars)\n",
    "    loader.restore(sess, 'weights/env_model_inverse.ckpt')\n",
    "    \n",
    "    #while not done and steps < n_steps:\n",
    "    while steps < n_steps:\n",
    "        actions, _, _ = actor_critic.act(np.expand_dims(states, axis=0))\n",
    "        print(actions)\n",
    "        onehot_actions = np.zeros((1, num_actions))\n",
    "        onehot_actions[range(1), actions] = 1\n",
    "        next_states, reward, done, _ = env.step(actions[0])\n",
    "        ainv = sess.run([env_model.ainvprobs], \n",
    "                                       feed_dict={\n",
    "                env_model.input_states: np.expand_dims(states, axis=0),\n",
    "                env_model.target_states: np.expand_dims(next_states, axis = 0)\n",
    "            })\n",
    "        print(\"Step: %d, Reward: %f\"%(steps, reward))\n",
    "        pred_actions[steps,:] = ainv[0]\n",
    "        act_actions[steps] = actions[0]\n",
    "        act_states[steps,:,:,:] = states\n",
    "        act_next_states[steps,:,:,:] = next_states\n",
    "        act_rewards[steps] = reward\n",
    "        states = next_states\n",
    "        steps += 1\n"
   ]
  },
  {
   "cell_type": "code",
   "execution_count": 28,
   "metadata": {},
   "outputs": [
    {
     "data": {
      "text/plain": [
       "array([2., 3., 0., 3., 0., 1., 2., 1., 0., 0., 0., 0., 3., 0., 0., 1., 2.,\n",
       "       2., 2., 2., 2., 3., 2., 2., 1., 0., 0., 0., 0., 0., 3., 0., 0., 1.,\n",
       "       2., 2., 2., 2., 2., 3.])"
      ]
     },
     "execution_count": 28,
     "metadata": {},
     "output_type": "execute_result"
    }
   ],
   "source": [
    "act_actions"
   ]
  },
  {
   "cell_type": "code",
   "execution_count": 12,
   "metadata": {},
   "outputs": [],
   "source": [
    "p_actions = np.argmax(pred_actions, 1)"
   ]
  },
  {
   "cell_type": "code",
   "execution_count": 36,
   "metadata": {},
   "outputs": [],
   "source": [
    "pred_str = [act_to_str[i] for i in p_actions.tolist()]\n",
    "act_str = [act_to_str[i] for i in act_actions.tolist()]"
   ]
  },
  {
   "cell_type": "code",
   "execution_count": 38,
   "metadata": {},
   "outputs": [
    {
     "data": {
      "image/png": "[encoded data removed]",
      "text/plain": [
       "<Figure size 720x216 with 1 Axes>"
      ]
     },
     "metadata": {
      "needs_background": "light"
     },
     "output_type": "display_data"
    }
   ],
   "source": [
    "#Visualize...\n",
    "#If it goes blank then reached the done state\n",
    "for steps in range(n_steps):\n",
    "    clear_output(True)\n",
    "    plt.figure(figsize=(10,3))        \n",
    "    plt.title(\"Step %d. reward: %i, pred act: %s, act act: %s\" % (steps,act_rewards[steps], pred_str[steps], act_str[steps]))\n",
    "    plt.imshow(act_next_states[steps,:,:,:]*11./255)\n",
    "    plt.show()\n",
    "    time.sleep(2)"
   ]
  },
  {
   "cell_type": "code",
   "execution_count": null,
   "metadata": {},
   "outputs": [],
   "source": []
  }
 ],
 "metadata": {
  "anaconda-cloud": {},
  "kernelspec": {
   "display_name": "Python 3",
   "language": "python",
   "name": "python3"
  },
  "language_info": {
   "codemirror_mode": {
    "name": "ipython",
    "version": 3
   },
   "file_extension": ".py",
   "mimetype": "text/x-python",
   "name": "python",
   "nbconvert_exporter": "python",
   "pygments_lexer": "ipython3",
   "version": "3.6.8"
  }
 },
 "nbformat": 4,
 "nbformat_minor": 2
}
