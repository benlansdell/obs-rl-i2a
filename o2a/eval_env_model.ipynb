{
 "cells": [
  {
   "cell_type": "markdown",
   "metadata": {},
   "source": [
    "## Visualize the Environment Model\n",
    "\n",
    "Evaluate and visualize the performance of the environment model by seeing it visualize future states while a A2C agent plays the game."
   ]
  },
  {
   "cell_type": "code",
   "execution_count": 1,
   "metadata": {},
   "outputs": [],
   "source": [
    "#Don't use the GPU for these runs:\n",
    "import os \n",
    "os.environ[\"CUDA_VISIBLE_DEVICES\"]=\"\"\n",
    "\n",
    "import numpy as np\n",
    "import tensorflow as tf\n",
    "from env_model_minigrid import make_env, create_env_model\n",
    "from common.multiprocessing_env import SubprocVecEnv\n",
    "from common.minigrid_util import num_pixels, mode_rewards, pix_to_target, rewards_to_target\n",
    "from a2c import get_actor_critic, CnnPolicy\n",
    "from i2a import convert_target_to_real\n",
    "import gym\n",
    "import gym_minigrid\n",
    "import common.minigrid_util"
   ]
  },
  {
   "cell_type": "code",
   "execution_count": 2,
   "metadata": {},
   "outputs": [],
   "source": [
    "from IPython.display import clear_output\n",
    "import matplotlib.pyplot as plt\n",
    "import time\n",
    "%matplotlib inline\n",
    "%load_ext autoreload\n",
    "%autoreload 2"
   ]
  },
  {
   "cell_type": "markdown",
   "metadata": {},
   "source": [
    "Next create the environments we will use."
   ]
  },
  {
   "cell_type": "code",
   "execution_count": 3,
   "metadata": {},
   "outputs": [],
   "source": [
    "env_name = \"MiniGrid-Blocks-6x6-v0\"\n",
    "#env_name = \"MiniGrid-Blocks-8x8-v0\"\n",
    "#env_name = \"MiniGrid-Blocks-16x16-v0\"\n",
    "nenvs = 16\n",
    "nsteps = 5\n",
    "envs = [make_env(env_name) for i in range(nenvs)]\n",
    "envs = SubprocVecEnv(envs)\n",
    "\n",
    "ob_space = envs.observation_space.shape\n",
    "ac_space = envs.action_space\n",
    "num_actions = envs.action_space.n"
   ]
  },
  {
   "cell_type": "markdown",
   "metadata": {},
   "source": [
    "Finally, go ahead and test the environment model in minigrid. This will use the A2C agent to play the game and the environment model to predict future states and rewards. This will visualize the imagined and real rewards and game states from the environment model. "
   ]
  },
  {
   "cell_type": "code",
   "execution_count": 4,
   "metadata": {},
   "outputs": [
    {
     "name": "stdout",
     "output_type": "stream",
     "text": [
      "observation space (6, 6, 3)\n",
      "number of actions 5\n"
     ]
    }
   ],
   "source": [
    "#Make minigrid env...\n",
    "env = gym_minigrid.wrappers.ImgObsWrapper(gym.make(env_name))\n",
    "\n",
    "done = False\n",
    "states = env.reset()\n",
    "num_actions = ac_space.n\n",
    "nw, nh, nc = ob_space\n",
    "print('observation space', ob_space)\n",
    "print('number of actions', num_actions)\n",
    "steps = 0"
   ]
  },
  {
   "cell_type": "code",
   "execution_count": 5,
   "metadata": {
    "scrolled": false
   },
   "outputs": [
    {
     "name": "stdout",
     "output_type": "stream",
     "text": [
      "WARNING:tensorflow:From /home/lansdell/projects/o2a/o2a/a2c.py:61: softmax_cross_entropy_with_logits (from tensorflow.python.ops.nn_ops) is deprecated and will be removed in a future version.\n",
      "Instructions for updating:\n",
      "\n",
      "Future major versions of TensorFlow will allow gradients to flow\n",
      "into the labels input on backprop by default.\n",
      "\n",
      "See `tf.nn.softmax_cross_entropy_with_logits_v2`.\n",
      "\n",
      "WARNING:tensorflow:From /home/lansdell/projects/o2a/o2a/a2c.py:14: calling reduce_max (from tensorflow.python.ops.math_ops) with keep_dims is deprecated and will be removed in a future version.\n",
      "Instructions for updating:\n",
      "keep_dims is deprecated, use keepdims instead\n",
      "WARNING:tensorflow:From /home/lansdell/projects/o2a/o2a/a2c.py:16: calling reduce_sum (from tensorflow.python.ops.math_ops) with keep_dims is deprecated and will be removed in a future version.\n",
      "Instructions for updating:\n",
      "keep_dims is deprecated, use keepdims instead\n",
      "INFO:tensorflow:Restoring parameters from weights/a2c_400000.ckpt\n",
      "INFO:tensorflow:Restoring parameters from weights/env_model.ckpt\n",
      "Step: 0, Reward:\n",
      "[[ 21.70675  -23.673204]]\n",
      "-0.006944444444444444\n",
      "Step: 1, Reward:\n",
      "[[ 24.34306  -26.171803]]\n",
      "-0.006944444444444444\n",
      "Step: 2, Reward:\n",
      "[[ 24.74587 -26.16102]]\n",
      "-0.006944444444444444\n",
      "Step: 3, Reward:\n",
      "[[ 29.365652 -30.82704 ]]\n",
      "-0.006944444444444444\n",
      "Step: 4, Reward:\n",
      "[[ 27.660353 -29.75094 ]]\n",
      "-0.006944444444444444\n",
      "Step: 5, Reward:\n",
      "[[ 34.068886 -37.15961 ]]\n",
      "-0.006944444444444444\n",
      "Step: 6, Reward:\n",
      "[[ 31.688408 -33.145596]]\n",
      "-0.006944444444444444\n",
      "Step: 7, Reward:\n",
      "[[ 31.86066  -32.689697]]\n",
      "-0.006944444444444444\n",
      "Step: 8, Reward:\n",
      "[[ 16.313293 -16.71361 ]]\n",
      "-0.006944444444444444\n",
      "Step: 9, Reward:\n",
      "[[ 27.861446 -31.597801]]\n",
      "-0.006944444444444444\n",
      "Step: 10, Reward:\n",
      "[[ 10.39824  -11.802041]]\n",
      "-0.006944444444444444\n",
      "Step: 11, Reward:\n",
      "[[ 20.501911 -23.144   ]]\n",
      "1\n",
      "Step: 12, Reward:\n",
      "[[ 20.333025 -21.261848]]\n",
      "-0.006944444444444444\n",
      "Step: 13, Reward:\n",
      "[[ 29.22026  -31.225145]]\n",
      "-0.006944444444444444\n",
      "Step: 14, Reward:\n",
      "[[ 21.359554 -22.273289]]\n",
      "-0.006944444444444444\n",
      "Step: 15, Reward:\n",
      "[[ 23.93031  -24.825146]]\n",
      "-0.006944444444444444\n",
      "Step: 16, Reward:\n",
      "[[ 30.646341 -32.90111 ]]\n",
      "-0.006944444444444444\n",
      "Step: 17, Reward:\n",
      "[[ 20.41579  -20.812181]]\n",
      "-0.006944444444444444\n",
      "Step: 18, Reward:\n",
      "[[ 12.369736 -11.65451 ]]\n",
      "-0.006944444444444444\n",
      "Step: 19, Reward:\n",
      "[[ 22.42921  -23.823753]]\n",
      "-0.006944444444444444\n"
     ]
    }
   ],
   "source": [
    "tf.reset_default_graph()\n",
    "n_steps = 20\n",
    "pred_states = np.zeros((n_steps, nw, nh, nc))\n",
    "act_states = np.zeros((n_steps, nw, nh, nc))\n",
    "pred_rewards = np.zeros(n_steps)\n",
    "act_rewards = np.zeros(n_steps)\n",
    "\n",
    "with tf.Session() as sess:\n",
    "    # Load the actor\n",
    "    with tf.variable_scope('actor'):\n",
    "        actor_critic = get_actor_critic(sess, nenvs, nsteps, ob_space,\n",
    "                ac_space, CnnPolicy, should_summary=False)\n",
    "    #actor_critic.load('weights/a2c_100000.ckpt')\n",
    "    actor_critic.load('weights/a2c_400000.ckpt')\n",
    "\n",
    "    # Load the critic\n",
    "    with tf.variable_scope('env_model'):\n",
    "        #env_model = create_latentinverse_env_model(ob_space, num_actions, num_pixels,\n",
    "        #        len(mode_rewards['regular']), should_summary=False)\n",
    "        env_model = create_env_model(ob_space, num_actions, num_pixels,\n",
    "                len(mode_rewards['regular']), should_summary=False)\n",
    "\n",
    "    save_vars = tf.get_collection(tf.GraphKeys.GLOBAL_VARIABLES, scope='env_model')\n",
    "    loader = tf.train.Saver(var_list=save_vars)\n",
    "    loader.restore(sess, 'weights/env_model.ckpt')\n",
    "    \n",
    "    #while not done and steps < n_steps:\n",
    "    while steps < n_steps:\n",
    "        actions, _, _ = actor_critic.act(np.expand_dims(states, axis=0))\n",
    "\n",
    "        onehot_actions = np.zeros((1, num_actions, nw, nh))\n",
    "        onehot_actions[range(1), actions] = 1\n",
    "        # Change so actions are the 'depth of the image' as tf expects\n",
    "        onehot_actions = onehot_actions.transpose(0, 2, 3, 1)\n",
    "\n",
    "        s, r = sess.run([env_model.imag_state, \n",
    "                                        env_model.imag_reward], \n",
    "                                       feed_dict={\n",
    "                env_model.input_states: np.expand_dims(states, axis=0),\n",
    "                env_model.input_actions: onehot_actions\n",
    "            })\n",
    "        print(\"Step: %d, Reward:\"%(steps))\n",
    "        print(r)\n",
    "        \n",
    "        s, r = convert_target_to_real(1, nw, nh, nc, s, r)\n",
    "        \n",
    "        states, reward, done, _ = env.step(actions[0])\n",
    "        print(reward)\n",
    "        \n",
    "        pred_states[steps,:,:,:] = s[0]\n",
    "        act_states[steps,:,:,:] = states\n",
    "        pred_rewards[steps] = r\n",
    "        act_rewards[steps] = reward\n",
    "        steps += 1\n"
   ]
  },
  {
   "cell_type": "code",
   "execution_count": 6,
   "metadata": {},
   "outputs": [
    {
     "data": {
      "image/png": "[encoded data removed]",
      "text/plain": [
       "<Figure size 720x216 with 2 Axes>"
      ]
     },
     "metadata": {
      "needs_background": "light"
     },
     "output_type": "display_data"
    }
   ],
   "source": [
    "#Visualize...\n",
    "#If it goes blank then reached the done state\n",
    "for steps in range(n_steps):\n",
    "    clear_output(True)\n",
    "    plt.figure(figsize=(10,3))\n",
    "    plt.subplot(121)\n",
    "    plt.title(\"Step %d. Imagined (Reward %i)\" % (steps,pred_rewards[steps]))\n",
    "    #Rescale colors...\n",
    "    plt.imshow(pred_states[steps,:,:,:]*11./255)\n",
    "    plt.subplot(122)\n",
    "        \n",
    "    plt.title(\"Step %d. Actual (Reward %i)\" % (steps,act_rewards[steps]))\n",
    "    plt.imshow(act_states[steps,:,:,:]*11./255)\n",
    "    plt.show()\n",
    "    time.sleep(2)"
   ]
  },
  {
   "cell_type": "code",
   "execution_count": 7,
   "metadata": {},
   "outputs": [],
   "source": [
    "#Seems better. Only one glitch in the model. The agent appears to overlap with the block on one frame, \n",
    "#or the agent just disappears. Thus:\n",
    "#Imagination doesn't contain the agent all the time....\n",
    "#X and Y dynamics now appear fixed... \n",
    "\n",
    "#There's still something funny with the dynamics when it interacts with the block. \n",
    "#...x and y must still be switched somewhere."
   ]
  },
  {
   "cell_type": "markdown",
   "metadata": {},
   "source": [
    "## Test out the inverse model too"
   ]
  },
  {
   "cell_type": "code",
   "execution_count": 8,
   "metadata": {},
   "outputs": [],
   "source": [
    "#Todo:\n",
    "\n",
    "#Try out larger environments then what agent is trained on\n",
    "#Try out only learning latent representation\n",
    "#Test inverse model\n",
    "\n",
    "#Code framework for Obs RL:\n",
    "## Change I2A algorithm to:\n",
    "### a) take off-line state transitions -- generated from:\n",
    "\n",
    "### b) Replace actual action with a sample from the inverse model. Rest of algorithm is the same.\n",
    "\n",
    "## Implement test environment. Compare with:\n",
    "### Naive algorithm with no obs experience\n",
    "### Expert algorithm with 'on policy' experience from obs phase"
   ]
  },
  {
   "cell_type": "code",
   "execution_count": null,
   "metadata": {},
   "outputs": [],
   "source": []
  }
 ],
 "metadata": {
  "anaconda-cloud": {},
  "kernelspec": {
   "display_name": "Python 3",
   "language": "python",
   "name": "python3"
  },
  "language_info": {
   "codemirror_mode": {
    "name": "ipython",
    "version": 3
   },
   "file_extension": ".py",
   "mimetype": "text/x-python",
   "name": "python",
   "nbconvert_exporter": "python",
   "pygments_lexer": "ipython3",
   "version": "3.6.8"
  }
 },
 "nbformat": 4,
 "nbformat_minor": 2
}
