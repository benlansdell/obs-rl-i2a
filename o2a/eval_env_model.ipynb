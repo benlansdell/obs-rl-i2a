{
 "cells": [
  {
   "cell_type": "markdown",
   "metadata": {},
   "source": [
    "## Visualize the Environment Model\n",
    "\n",
    "Evaluate and visualize the performance of the environment model by seeing it visualize future states while a A2C agent plays the game."
   ]
  },
  {
   "cell_type": "code",
   "execution_count": 1,
   "metadata": {},
   "outputs": [],
   "source": [
    "#Don't use the GPU for these runs:\n",
    "import os \n",
    "os.environ[\"CUDA_VISIBLE_DEVICES\"]=\"\"\n",
    "\n",
    "import numpy as np\n",
    "import tensorflow as tf\n",
    "from env_model_minigrid import make_env, create_env_model\n",
    "from common.multiprocessing_env import SubprocVecEnv\n",
    "from common.minigrid_util import num_pixels, mode_rewards, pix_to_target, rewards_to_target\n",
    "from a2c import get_actor_critic, CnnPolicy\n",
    "from i2a import convert_target_to_real\n",
    "import gym\n",
    "import gym_minigrid\n",
    "import common.minigrid_util"
   ]
  },
  {
   "cell_type": "code",
   "execution_count": 2,
   "metadata": {},
   "outputs": [],
   "source": [
    "from IPython.display import clear_output\n",
    "import matplotlib.pyplot as plt\n",
    "import time\n",
    "%matplotlib inline\n",
    "%load_ext autoreload\n",
    "%autoreload 2"
   ]
  },
  {
   "cell_type": "markdown",
   "metadata": {},
   "source": [
    "Next create the environments we will use."
   ]
  },
  {
   "cell_type": "code",
   "execution_count": 3,
   "metadata": {},
   "outputs": [],
   "source": [
    "env_name = \"MiniGrid-BlockMaze-v0\"\n",
    "#env_name = \"MiniGrid-Blocks-6x6-v0\"\n",
    "#env_name = \"MiniGrid-Blocks-8x8-v0\"\n",
    "#env_name = \"MiniGrid-Blocks-16x16-v0\"\n",
    "nenvs = 16\n",
    "nsteps = 5\n",
    "envs = [make_env(env_name) for i in range(nenvs)]\n",
    "envs = SubprocVecEnv(envs)\n",
    "\n",
    "ob_space = envs.observation_space.shape\n",
    "ac_space = envs.action_space\n",
    "num_actions = envs.action_space.n"
   ]
  },
  {
   "cell_type": "markdown",
   "metadata": {},
   "source": [
    "Finally, go ahead and test the environment model in minigrid. This will use the A2C agent to play the game and the environment model to predict future states and rewards. This will visualize the imagined and real rewards and game states from the environment model. "
   ]
  },
  {
   "cell_type": "code",
   "execution_count": 4,
   "metadata": {},
   "outputs": [
    {
     "name": "stdout",
     "output_type": "stream",
     "text": [
      "observation space (16, 16, 3)\n",
      "number of actions 5\n"
     ]
    }
   ],
   "source": [
    "#Make minigrid env...\n",
    "env = gym_minigrid.wrappers.ImgObsWrapper(gym.make(env_name))\n",
    "\n",
    "done = False\n",
    "states = env.reset()\n",
    "num_actions = ac_space.n\n",
    "nw, nh, nc = ob_space\n",
    "print('observation space', ob_space)\n",
    "print('number of actions', num_actions)\n",
    "steps = 0"
   ]
  },
  {
   "cell_type": "code",
   "execution_count": 5,
   "metadata": {
    "scrolled": false
   },
   "outputs": [
    {
     "name": "stdout",
     "output_type": "stream",
     "text": [
      "WARNING:tensorflow:From /home/lansdell/projects/o2a/o2a/a2c.py:61: softmax_cross_entropy_with_logits (from tensorflow.python.ops.nn_ops) is deprecated and will be removed in a future version.\n",
      "Instructions for updating:\n",
      "\n",
      "Future major versions of TensorFlow will allow gradients to flow\n",
      "into the labels input on backprop by default.\n",
      "\n",
      "See `tf.nn.softmax_cross_entropy_with_logits_v2`.\n",
      "\n",
      "WARNING:tensorflow:From /home/lansdell/projects/o2a/o2a/a2c.py:14: calling reduce_max (from tensorflow.python.ops.math_ops) with keep_dims is deprecated and will be removed in a future version.\n",
      "Instructions for updating:\n",
      "keep_dims is deprecated, use keepdims instead\n",
      "WARNING:tensorflow:From /home/lansdell/projects/o2a/o2a/a2c.py:16: calling reduce_sum (from tensorflow.python.ops.math_ops) with keep_dims is deprecated and will be removed in a future version.\n",
      "Instructions for updating:\n",
      "keep_dims is deprecated, use keepdims instead\n",
      "INFO:tensorflow:Restoring parameters from weights/a2c_1000000.ckpt\n",
      "INFO:tensorflow:Restoring parameters from weights/env_model.ckpt\n",
      "Step: 0, Reward:\n",
      "[[  8.328511 -16.744192 -31.273016]]\n",
      "-0.0078125\n",
      "Step: 1, Reward:\n",
      "[[  8.291509 -16.814442 -31.271431]]\n",
      "-0.0078125\n",
      "Step: 2, Reward:\n",
      "[[  7.3218474 -15.698858  -31.973276 ]]\n",
      "-0.0078125\n",
      "Step: 3, Reward:\n",
      "[[ 0.8979223 -2.0987608 -5.59488  ]]\n",
      "-0.0078125\n",
      "Step: 4, Reward:\n",
      "[[-0.63674915 -1.5885849  -2.3649752 ]]\n",
      "Reached door!\n",
      "1.0\n",
      "Step: 5, Reward:\n",
      "[[ 2.0170665  -4.748564   -0.99632293]]\n",
      "-0.0078125\n",
      "Step: 6, Reward:\n",
      "[[ 1.8423564 -3.4174209 -1.2633567]]\n",
      "-0.0078125\n",
      "Step: 7, Reward:\n",
      "[[ 0.91653615 -2.8760948  -1.0500866 ]]\n",
      "-0.0078125\n",
      "Step: 8, Reward:\n",
      "[[  5.7714806 -11.020264  -15.903495 ]]\n",
      "-0.0078125\n",
      "Step: 9, Reward:\n",
      "[[ 2.612891  -3.6372848 -3.201066 ]]\n",
      "-0.0078125\n",
      "Step: 10, Reward:\n",
      "[[ 1.4088048 -2.8546557 -2.384419 ]]\n",
      "-0.0078125\n",
      "Step: 11, Reward:\n",
      "[[  7.9901733 -16.151112  -26.897623 ]]\n",
      "-0.0078125\n",
      "Step: 12, Reward:\n",
      "[[  3.9848816  -8.590613  -12.25265  ]]\n",
      "-0.0078125\n",
      "Step: 13, Reward:\n",
      "[[  3.7034779  -8.989576  -11.6975   ]]\n",
      "-0.0078125\n",
      "Step: 14, Reward:\n",
      "[[  4.138767  -9.559082 -12.028828]]\n",
      "Reached door!\n",
      "1.0\n",
      "Step: 15, Reward:\n",
      "[[  5.0811076 -11.168189  -12.398384 ]]\n",
      "-0.0078125\n",
      "Step: 16, Reward:\n",
      "[[  2.9870632  -8.23855   -11.96267  ]]\n",
      "-0.0078125\n",
      "Step: 17, Reward:\n",
      "[[  4.8699036 -10.216852  -18.386824 ]]\n",
      "-0.0078125\n",
      "Step: 18, Reward:\n",
      "[[  5.62186  -12.465663 -16.864218]]\n",
      "-0.0078125\n",
      "Step: 19, Reward:\n",
      "[[  4.228838  -8.895669 -14.876465]]\n",
      "-0.0078125\n"
     ]
    }
   ],
   "source": [
    "tf.reset_default_graph()\n",
    "n_steps = 20\n",
    "pred_states = np.zeros((n_steps, nw, nh, nc))\n",
    "act_states = np.zeros((n_steps, nw, nh, nc))\n",
    "pred_rewards = np.zeros(n_steps)\n",
    "act_rewards = np.zeros(n_steps)\n",
    "\n",
    "with tf.Session() as sess:\n",
    "    # Load the actor\n",
    "    with tf.variable_scope('actor'):\n",
    "        actor_critic = get_actor_critic(sess, nenvs, nsteps, ob_space,\n",
    "                ac_space, CnnPolicy, should_summary=False)\n",
    "    #actor_critic.load('weights/a2c_100000.ckpt')\n",
    "    actor_critic.load('weights/a2c_1000000.ckpt')\n",
    "\n",
    "    # Load the critic\n",
    "    with tf.variable_scope('env_model'):\n",
    "        #env_model = create_latentinverse_env_model(ob_space, num_actions, num_pixels,\n",
    "        #        len(mode_rewards['regular']), should_summary=False)\n",
    "        env_model = create_env_model(ob_space, num_actions, num_pixels,\n",
    "                len(mode_rewards['regular']), should_summary=False)\n",
    "\n",
    "    save_vars = tf.get_collection(tf.GraphKeys.GLOBAL_VARIABLES, scope='env_model')\n",
    "    loader = tf.train.Saver(var_list=save_vars)\n",
    "    loader.restore(sess, 'weights/env_model.ckpt')\n",
    "    \n",
    "    #while not done and steps < n_steps:\n",
    "    while steps < n_steps:\n",
    "        actions, _, _ = actor_critic.act(np.expand_dims(states, axis=0))\n",
    "\n",
    "        onehot_actions = np.zeros((1, num_actions, nw, nh))\n",
    "        onehot_actions[range(1), actions] = 1\n",
    "        # Change so actions are the 'depth of the image' as tf expects\n",
    "        onehot_actions = onehot_actions.transpose(0, 2, 3, 1)\n",
    "\n",
    "        s, r = sess.run([env_model.imag_state, \n",
    "                                        env_model.imag_reward], \n",
    "                                       feed_dict={\n",
    "                env_model.input_states: np.expand_dims(states, axis=0),\n",
    "                env_model.input_actions: onehot_actions\n",
    "            })\n",
    "        print(\"Step: %d, Reward:\"%(steps))\n",
    "        print(r)\n",
    "        \n",
    "        s, r = convert_target_to_real(1, nw, nh, nc, s, r)\n",
    "        \n",
    "        states, reward, done, _ = env.step(actions[0])\n",
    "        print(reward)\n",
    "        \n",
    "        pred_states[steps,:,:,:] = s[0]\n",
    "        act_states[steps,:,:,:] = states\n",
    "        pred_rewards[steps] = r\n",
    "        act_rewards[steps] = reward\n",
    "        steps += 1\n"
   ]
  },
  {
   "cell_type": "code",
   "execution_count": 6,
   "metadata": {},
   "outputs": [
    {
     "data": {
      "image/png": "[encoded data removed]",
      "text/plain": [
       "<Figure size 720x216 with 2 Axes>"
      ]
     },
     "metadata": {
      "needs_background": "light"
     },
     "output_type": "display_data"
    }
   ],
   "source": [
    "#Visualize...\n",
    "#If it goes blank then reached the done state\n",
    "for steps in range(n_steps):\n",
    "    clear_output(True)\n",
    "    plt.figure(figsize=(10,3))\n",
    "    plt.subplot(121)\n",
    "    plt.title(\"Step %d. Imagined (Reward %i)\" % (steps,pred_rewards[steps]))\n",
    "    #Rescale colors...\n",
    "    plt.imshow(pred_states[steps,:,:,:]*11./255)\n",
    "    plt.subplot(122)\n",
    "        \n",
    "    plt.title(\"Step %d. Actual (Reward %i)\" % (steps,act_rewards[steps]))\n",
    "    plt.imshow(act_states[steps,:,:,:]*11./255)\n",
    "    plt.show()\n",
    "    time.sleep(2)"
   ]
  },
  {
   "cell_type": "code",
   "execution_count": 7,
   "metadata": {},
   "outputs": [],
   "source": [
    "#Seems better. Only one glitch in the model. The agent appears to overlap with the block on one frame, \n",
    "#or the agent just disappears. Thus:\n",
    "#Imagination doesn't contain the agent all the time....\n",
    "#X and Y dynamics now appear fixed... \n",
    "\n",
    "#There's still something funny with the dynamics when it interacts with the block. \n",
    "#...x and y must still be switched somewhere."
   ]
  },
  {
   "cell_type": "code",
   "execution_count": null,
   "metadata": {},
   "outputs": [],
   "source": []
  }
 ],
 "metadata": {
  "anaconda-cloud": {},
  "kernelspec": {
   "display_name": "Python 3",
   "language": "python",
   "name": "python3"
  },
  "language_info": {
   "codemirror_mode": {
    "name": "ipython",
    "version": 3
   },
   "file_extension": ".py",
   "mimetype": "text/x-python",
   "name": "python",
   "nbconvert_exporter": "python",
   "pygments_lexer": "ipython3",
   "version": "3.6.8"
  }
 },
 "nbformat": 4,
 "nbformat_minor": 2
}
